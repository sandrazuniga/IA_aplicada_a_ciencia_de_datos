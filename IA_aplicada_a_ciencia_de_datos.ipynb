{
  "nbformat": 4,
  "nbformat_minor": 0,
  "metadata": {
    "colab": {
      "provenance": [],
      "include_colab_link": true
    },
    "kernelspec": {
      "name": "python3",
      "display_name": "Python 3"
    },
    "language_info": {
      "name": "python"
    }
  },
  "cells": [
    {
      "cell_type": "markdown",
      "metadata": {
        "id": "view-in-github",
        "colab_type": "text"
      },
      "source": [
        "<a href=\"https://colab.research.google.com/github/sandrazuniga/IA_aplicada_a_ciencia_de_datos/blob/main/IA_aplicada_a_ciencia_de_datos.ipynb\" target=\"_parent\"><img src=\"https://colab.research.google.com/assets/colab-badge.svg\" alt=\"Open In Colab\"/></a>"
      ]
    },
    {
      "cell_type": "markdown",
      "source": [
        "# <strong><font color=\"7b71ff\">IA aplicada a Data Science: Utilizando IA en la construcción de visualizaciones de datos</font></strong>\n",
        "\n",
        "\n",
        "---"
      ],
      "metadata": {
        "id": "xH5tFkmkRt_n"
      }
    },
    {
      "cell_type": "markdown",
      "source": [
        "<img src=\"https://raw.githubusercontent.com/alura-cursos/ia-datascience-dataviz/main/imagens/logos/logo_branca_fundo_azul.png\" alt=\"inserir alt\">"
      ],
      "metadata": {
        "id": "sQ_RdGPMSWeu"
      }
    },
    {
      "cell_type": "markdown",
      "source": [
        "# **Aula 1 - Conociendo los datos**"
      ],
      "metadata": {
        "id": "heBVzgb0SeZH"
      }
    },
    {
      "cell_type": "markdown",
      "source": [
        " Zoop es una gran minorista que atiende a todas las regiones de México a través de su e-commerce. Es conocida por la amplia variedad de productos que ofrece, buscando satisfacer a todo tipo de público. Posee una serie de centros de distribución (CDs) para la entrega de sus productos, la mayoría de ellos situados en el estado de Mexico.\n",
        "\n",
        "Para gestionar su alcance, así como la facturación de su sector en tiendas online, consolida los datos en diferentes períodos de tiempo y evalúa estos datos para generar insights y tomar decisiones estratégicas en su negocio. En este proyecto, tendremos acceso a los datos de parte de su clientela de e-commerce durante el año 2023.\n",
        "\n",
        "Tú, como analista de datos de la empresa, necesitarás generar visualizaciones que ayuden en la elaboración de informes de acuerdo con algunas premisas proporcionadas por las partes interesadas, realizando un rápido análisis de la clientela que tenemos en la tienda virtual y de la facturación de la empresa.\n",
        "\n",
        "**Problema de negocio:**\n",
        "\n",
        "El equipo de datos de Zoop necesita extraer los datos y generar información a través de visuales que puedan presentarse a la directiva de la empresa, destacando los datos de facturación, perfil del cliente y otros indicadores que puedan ayudar en la toma de decisiones en su tienda online.\n",
        "\n",
        "**Base de datos**\n",
        "\n",
        "Vamos a importar dos bases de datos:\n",
        "\n",
        "Datos de los clientes del e-commerce de Zoop, separados por el código identificador de la compra.\n",
        "\n",
        "Datos de ventas del e-commerce de Zoop en 2023, separados por el código identificador de la compra.\n",
        "\n",
        "Estos datos se leerán desde el repositorio compartido en GitHub.\n",
        "\n",
        "**Desafío**\n",
        "\n",
        "Tú, como analista de datos del equipo de datos de Zoop, tienes el desafío de extraer los datos de ambas bases y construir visualizaciones que puedan agregar valor a la presentación de los resultados de Zoop en 2023. Para ello, se te presentarán 7 preguntas para que puedas contribuir en la construcción del storytelling de las ventas de la empresa.\n",
        "\n",
        "Para agilizar el proceso de análisis exploratorio de datos (AED) y la creación de visuales, utilizaremos la IA de ChatGPT como nuestra asistente, teniendo en cuenta el corto plazo para los análisis y la calidad de la entrega."
      ],
      "metadata": {
        "id": "o9mGhpCVSxFt"
      }
    },
    {
      "cell_type": "markdown",
      "source": [
        "## **1.2 - Obteniendo los datos**\n",
        "\n",
        "---\n",
        "\n"
      ],
      "metadata": {
        "id": "Gug4N1McUbeN"
      }
    },
    {
      "cell_type": "markdown",
      "source": [
        "Vamos inicialmente a proveer el link del repositorio con las dos bases que utilizaremos en el proyecto:"
      ],
      "metadata": {
        "id": "xI-XtppmUii6"
      }
    },
    {
      "cell_type": "code",
      "source": [
        "url_clientes = \"https://gist.githubusercontent.com/ahcamachod/d08898e1cc84c7271856e78d9558ca3d/raw/2f7e1fa53711efe6433a5c5ec79948f600591cb9/clientes_zoop.csv\"\n",
        "url_ventas = \"https://gist.githubusercontent.com/ahcamachod/966d7162a3c3a2769b8770b35abf1bcc/raw/d79941b3fa46a450f3611589abd8663399c1277b/ventas_zoop.csv\""
      ],
      "metadata": {
        "id": "t6OFqAHOSOeJ"
      },
      "execution_count": null,
      "outputs": []
    },
    {
      "cell_type": "markdown",
      "source": [
        "Después de esta etapa, vamos a crear 2 dataframes con los datos de los clientes y de las ventas de Zoop separadamente y realizar una pequeña verificación en las tablas extraídas."
      ],
      "metadata": {
        "id": "B6dG4mpIU1st"
      }
    },
    {
      "cell_type": "code",
      "source": [],
      "metadata": {
        "id": "pKX3QMfJ-vsP"
      },
      "execution_count": null,
      "outputs": []
    },
    {
      "cell_type": "code",
      "source": [],
      "metadata": {
        "id": "yN2USgCt-vor"
      },
      "execution_count": null,
      "outputs": []
    },
    {
      "cell_type": "code",
      "source": [],
      "metadata": {
        "id": "TP7FS5Va-vl6"
      },
      "execution_count": null,
      "outputs": []
    },
    {
      "cell_type": "code",
      "source": [],
      "metadata": {
        "id": "ssCTn_Em-xp6"
      },
      "execution_count": null,
      "outputs": []
    },
    {
      "cell_type": "markdown",
      "source": [
        "## **1.3 - Entendiendo los datos**\n",
        "\n",
        "---\n"
      ],
      "metadata": {
        "id": "sGD1TbXWimjs"
      }
    },
    {
      "cell_type": "markdown",
      "source": [
        "Ahora, vamos a explorar los datos comprendiendo lo que significan y cómo podemos relacionarlos en la construcción de las visualizaciones."
      ],
      "metadata": {
        "id": "_j0wSj0Rjkjn"
      }
    },
    {
      "cell_type": "markdown",
      "source": [
        "### **Base de clientes**"
      ],
      "metadata": {
        "id": "jQExeDtTkC4G"
      }
    },
    {
      "cell_type": "markdown",
      "source": [
        "> #### <strong><font color=\"7b71ff\" size =6>Prompt:</font></strong>\n",
        "\n",
        "Vamos a actuar como analistas de datos de una e-commerce. Recibimos dos bases de datos con los datos de los clientes y de las ventas en 2023, respectivamente.\n",
        "\n",
        "En este primer momento, vamos a explorar la base de clientes en formato de un DataFrame de pandas, llamado \"clientes\". Contiene datos de los clientes que realizaron compras en la tienda virtual, siendo estos: ID de la compra, ID del cliente, la ciudad, estado y región de la compra, edad, sexo biológico, si participan en el programa de cashback y la calificación, o nota, de la compra.\n",
        "\n",
        "Queremos hacer una breve exploración de los datos para comprender un poco sobre ellos. Recordando que los datos de esta base ya están limpios y tratados. Construye el código para ejecutar esta etapa utilizando Python con el objetivo de conocer mejor el dataframe \"clientes\" y algunos de sus atributos.\n",
        "\n",
        "No es necesario utilizar \"print()\" para mostrar el resultado de las consultas."
      ],
      "metadata": {
        "id": "VzsWSK91lIPb"
      }
    },
    {
      "cell_type": "code",
      "source": [],
      "metadata": {
        "id": "aEL-RHLK-q9C"
      },
      "execution_count": null,
      "outputs": []
    },
    {
      "cell_type": "code",
      "source": [],
      "metadata": {
        "id": "ONCdgaeB-qz-"
      },
      "execution_count": null,
      "outputs": []
    },
    {
      "cell_type": "code",
      "source": [],
      "metadata": {
        "id": "tTkM8H4t-qxj"
      },
      "execution_count": null,
      "outputs": []
    },
    {
      "cell_type": "markdown",
      "source": [
        "### **Base de ventas**"
      ],
      "metadata": {
        "id": "MT_FYn9jxvyy"
      }
    },
    {
      "cell_type": "markdown",
      "source": [
        "> #### <strong><font color=\"7b71ff\" size =6>Prompt:</font></strong>\n",
        "\n",
        "Ahora vamos explorar la base de ventas en formato de un DataFrame, llamado \"ventas\". Contiene datos de las ventas del comercio electrónico, que son: ID de la compra, fecha de la compra, hora de la compra, categoría del producto, precio unitario del producto, cantidad vendida, envío y el método de pago.\n",
        "\n",
        "Queremos hacer una breve exploración de los datos para comprender un poco sobre ellos. Recordando que los datos de esta base también están limpios y tratados. Construye el código para ejecutar esta etapa utilizando Python con el objetivo de conocer mejor el dataframe \"clientes\" y algunos de sus atributos."
      ],
      "metadata": {
        "id": "WMF2ZEvIxzA2"
      }
    },
    {
      "cell_type": "code",
      "source": [],
      "metadata": {
        "id": "ErpavGF2-n-E"
      },
      "execution_count": null,
      "outputs": []
    },
    {
      "cell_type": "code",
      "source": [],
      "metadata": {
        "id": "4IZIkGfF-nvS"
      },
      "execution_count": null,
      "outputs": []
    },
    {
      "cell_type": "code",
      "source": [],
      "metadata": {
        "id": "p0FIKkM6-nso"
      },
      "execution_count": null,
      "outputs": []
    },
    {
      "cell_type": "markdown",
      "source": [
        "## **1.4 - Tipos de gráficos**\n",
        "\n",
        "---\n"
      ],
      "metadata": {
        "id": "0JlV1G5ST0ij"
      }
    },
    {
      "cell_type": "markdown",
      "source": [
        "Ya hemos explorado un poco de las dos bases del proyecto y obtuvimos algunos insights interesantes que pueden ser importantes en la construcción de nuestras visualizaciones.\n",
        "\n",
        "Ahora, intentemos simplificar nuestro análisis consolidando los datos en una única tabla para, a partir de ahí, enfocarnos en las posibilidades de visuales combinando los datos. ¿Podrá GPT ayudarnos aquí?"
      ],
      "metadata": {
        "id": "viFLQ7iIT9Lk"
      }
    },
    {
      "cell_type": "markdown",
      "source": [
        "> #### <strong><font color=\"7b71ff\" size =6>Prompt:</font></strong>\n",
        "\n",
        "Ahora vamos a unir las dos bases de nuestro proyecto en una sola utilizando como llave la columna \"ID_compra\". Además, organizaremos las columnas en la siguiente secuencia:\n",
        "\n",
        "* ID_compra\n",
        "* fecha\n",
        "* horario\n",
        "* categoria\n",
        "* precio_unitario\n",
        "* cantidad\n",
        "* envio\n",
        "* metodo_pago\n",
        "* ID_cliente\n",
        "* edad\n",
        "* sexo_biologico\n",
        "* ciudad\n",
        "* estado\n",
        "* region\n",
        "* cashback\n",
        "* nota\n",
        "\n",
        "Construye un código para ejecutar esta etapa usando Python y la biblioteca Pandas.\n"
      ],
      "metadata": {
        "id": "Q9msYRqEUh6B"
      }
    },
    {
      "cell_type": "code",
      "source": [],
      "metadata": {
        "id": "Xnt5nQnX-kuS"
      },
      "execution_count": null,
      "outputs": []
    },
    {
      "cell_type": "code",
      "source": [],
      "metadata": {
        "id": "OxWC_J80-kmI"
      },
      "execution_count": null,
      "outputs": []
    },
    {
      "cell_type": "markdown",
      "source": [
        "Ahora le pediremos a ChatGPT ideas de visuales que podamos contruir con esos datos"
      ],
      "metadata": {
        "id": "53Rx8QHRXBDx"
      }
    },
    {
      "cell_type": "markdown",
      "source": [
        "> #### <strong><font color=\"7b71ff\" size =6>Prompt:</font></strong>\n",
        "\n",
        "Ahora con nuestro \"df\" ya construido a partir de las dos bases del proyecto, vamos a iniciar un nuevo proceso. Queremos comenzar la etapa de generación de visuales que puedan ayudar en el análisis de la facturación a lo largo del año, el perfil del cliente y otros datos que puedan ser relevantes para el análisis y la construcción de nuestra narrativa.\n",
        "\n",
        "Las columnas de \"df\" son:\n",
        "\n",
        "* ID_compra: número único asignado a la compra realizada, en formato int\n",
        "* fecha: fecha de la compra, en formato datetime\n",
        "* horario: hora de la compra, en formato object\n",
        "* categoria: categoría del producto, en formato object\n",
        "* precio_unitario: precio de una unidad del producto, en formato float\n",
        "* cantidad: cantidad vendida del producto, en formato int\n",
        "* envio: costo de envío a ser pagado en total de la compra, en formato float\n",
        "* metodo_pago: método de pago de la compra, en formato object\n",
        "* ID_cliente: número único asignado al cliente, en formato int\n",
        "* edad: edad del cliente, en formato int\n",
        "* sexo_biologico: sexo biológico del cliente, en formato object\n",
        "* ciudad: ciudad del cliente, en formato object\n",
        "* estado: estado del cliente, en formato object\n",
        "* region: región del cliente, en formato object\n",
        "* cashback: si el cliente participa o no en el programa de cashback de la tienda, en formato object\n",
        "* nota: evaluación del cliente por la compra, en formato int\n",
        "\n",
        "El objetivo es abstraer y buscar relaciones para construir visualizaciones interesantes para el análisis de los datos de los clientes y ventas de Zoop.\n",
        "\n",
        "Con base en la información proporcionada, ¿qué tipos de visualizaciones serían útiles para alcanzar el objetivo de analizar los datos?"
      ],
      "metadata": {
        "id": "RQ7xEhDRklQi"
      }
    },
    {
      "cell_type": "code",
      "source": [],
      "metadata": {
        "id": "H1sk7i27-hJm"
      },
      "execution_count": null,
      "outputs": []
    },
    {
      "cell_type": "code",
      "source": [],
      "metadata": {
        "id": "RaXOh3ye-gtT"
      },
      "execution_count": null,
      "outputs": []
    },
    {
      "cell_type": "markdown",
      "source": [
        "# **Clase 2 - Visualizando los dados**"
      ],
      "metadata": {
        "id": "s9k5kKMU1mvw"
      }
    },
    {
      "cell_type": "markdown",
      "source": [
        "ChatGPT trajo algunas ideas interesantes para la creación de los gráficos.\n",
        "\n",
        "Sin embargo, como ya tenemos algunas preguntas para guiarnos en la creación de los visuales, no vamos a seguir todas las sugerencias aquí mencionadas.\n",
        "\n",
        "Queda como una sugerencia para ayudarte cuando estés trabajando con otras bases y tengas dificultades para pensar en qué visualizaciones podrías construir.\n",
        "\n",
        "**Observación:** Recordando que es muy probable que los gráficos que se me señalaron, no sean necesariamente los mismos que aparecerán para ti, dado a la aleatoriedad de las respuestas de cualquier IA generativa."
      ],
      "metadata": {
        "id": "V12xn1TszsSs"
      }
    },
    {
      "cell_type": "markdown",
      "source": [
        "## **2.1 - Definiendo los visualizaciones**\n",
        "\n",
        "---"
      ],
      "metadata": {
        "id": "LQuD_W_n1xk3"
      }
    },
    {
      "cell_type": "markdown",
      "source": [
        "Después de la etapa de exploración de los datos, vamos a leer las preguntas que se plantearon en la demanda que recibimos. Así, comenzaremos a pensar en los visuales que vamos a construir con la ayuda de la IA.\n",
        "\n",
        "### **Preguntas**\n",
        "\n",
        "#### Ventas\n",
        "\n",
        "1. ¿Cuáles fueron los métodos de pago más utilizados en 2023?\n",
        "2. ¿Cuál fue la facturación por categoría en 2023?\n",
        "3. ¿Cómo fueron las ventas a lo largo de los meses en 2023?\n",
        "4. ¿Cómo se divide la venta por trimestre por método de pago? ¿Existe un período en que algún tipo de pago se destaca?\n",
        "\n",
        "\n",
        "#### Perfil del cliente\n",
        "\n",
        "5. ¿Cuál es la proporción de la clientela que participa en nuestro programa de cashback?\n",
        "6. ¿Cómo están distribuidas las evaluaciones del producto? ¿Tenemos buenos números generales?\n",
        "7. ¿Cómo se distribuye nuestro público por edad y sexo biológico? ¿Existe un grupo que se destaca?\n",
        "\n",
        "Inicialmente, vamos a hacer la primera versión de los gráficos, aún no refinados con los elementos visuales, para más adelante ir añadiendo las diversas técnicas de storytelling."
      ],
      "metadata": {
        "id": "UHZIUzEf4TzJ"
      }
    },
    {
      "cell_type": "markdown",
      "source": [
        "### **1ra Pregunta:** ¿Cuáles fueron los métodos de pago más utilizados en 2023?"
      ],
      "metadata": {
        "id": "nuximvEi5Jsc"
      }
    },
    {
      "cell_type": "markdown",
      "source": [
        "Le vamos pedir a ChatGPT que nos auxilie en la construcción de este visual. Primero, trataremos los datos generando una tabla resumida (que también es una especie de visual) y luego construiremos el primer gráfico."
      ],
      "metadata": {
        "id": "sp3YpxjOCdBY"
      }
    },
    {
      "cell_type": "markdown",
      "source": [
        "> #### <strong><font color=\"7b71ff\" size=6>Prompt:</font></strong>\n",
        "\n",
        "Tenemos un DataFrame llamado \"df\" y queremos construir un visual que presente cuáles métodos de pago fueron los más utilizados.\n",
        "\n",
        "En \"df\", tenemos la columna \"metodo_pago\" con los 4 tipos de pago utilizados en la compra.\n",
        "\n",
        "Inicialmente, queremos construir una tabla llamada \"metodos_de_pago\" que resuma los datos de esta columna y, a continuación, deseamos crear una visualización que muestre la cantidad de esos métodos de pago presentes en la tabla \"metodo_pago\".\n",
        "\n",
        "Utiliza las bibliotecas de visualización de datos de Python para crear esta visualización.\n"
      ],
      "metadata": {
        "id": "qHwZZA1lG6JY"
      }
    },
    {
      "cell_type": "code",
      "source": [],
      "metadata": {
        "id": "v2_h5RAO-LFW"
      },
      "execution_count": null,
      "outputs": []
    },
    {
      "cell_type": "code",
      "source": [],
      "metadata": {
        "id": "enfDEbZ6-Q7j"
      },
      "execution_count": null,
      "outputs": []
    },
    {
      "cell_type": "code",
      "source": [],
      "metadata": {
        "id": "lzcvPTO_-K_p"
      },
      "execution_count": null,
      "outputs": []
    },
    {
      "cell_type": "markdown",
      "source": [
        "\n",
        "<font color=\"7b71ff\" size=4> Comentarios: </font>\n",
        "\n",
        "---\n",
        "\n",
        "Podemos observar que, incluso sin especificar el tipo de gráfico, por la forma en que presentamos los datos a ChatGPT, logró representar con éxito un visual que muestra la información deseada. Un gráfico de barras es realmente ideal para representar las cantidades de una o más categorías de datos.\n",
        "\n",
        "Iremos ajustando poco a poco los visuales para que se adecuen a nuestro público y reflejen la identidad visual de la empresa.\n"
      ],
      "metadata": {
        "id": "kMyT9b9AMESv"
      }
    },
    {
      "cell_type": "markdown",
      "source": [
        "## **2.2 - Comparando los datos**\n",
        "\n",
        "---"
      ],
      "metadata": {
        "id": "lBBf_RevoKjD"
      }
    },
    {
      "cell_type": "markdown",
      "source": [
        "### **2da Pregunta:** ¿Cuál fue la facturación por categoria em 2023?"
      ],
      "metadata": {
        "id": "sov50T6wMN3L"
      }
    },
    {
      "cell_type": "markdown",
      "source": [
        "**Observación:** Para la facturación, consideraremos aquí el producto entre el precio unitario y la cantidad, sumados al costo de envío de cada producto.\n"
      ],
      "metadata": {
        "id": "kMl9XgD3OGrc"
      }
    },
    {
      "cell_type": "markdown",
      "source": [
        "> #### <strong><font color=\"7b71ff\" size=6>Prompt:</font></strong>\n",
        "\n",
        "Tenemos un DataFrame llamado \"df\" y queremos construir un gráfico de barras horizontales que muestre la facturación por categoría de Zoop.\n",
        "\n",
        "En \"df\", tenemos las siguientes columnas:\n",
        "* categoria: categorías de los productos\n",
        "* precio_unitario: precio de una unidad del producto\n",
        "* cantidad: cantidad vendida del producto\n",
        "* envio: costo de envío total de la compra.\n",
        "\n",
        "Deseamos crear una visualización que muestre la facturación de cada categoría, donde la facturación se calcula multiplicando el precio unitario por la cantidad y sumando el costo de envío.\n",
        "\n",
        "Utiliza las bibliotecas de visualización de datos de Python para crear esta visualización.\n"
      ],
      "metadata": {
        "id": "E4bKaRL8OprF"
      }
    },
    {
      "cell_type": "code",
      "source": [],
      "metadata": {
        "id": "qOkMMd9E-Izm"
      },
      "execution_count": null,
      "outputs": []
    },
    {
      "cell_type": "code",
      "source": [],
      "metadata": {
        "id": "xSOBv0PY-IxQ"
      },
      "execution_count": null,
      "outputs": []
    },
    {
      "cell_type": "markdown",
      "source": [
        "<font color=\"7b71ff\" size=4> Comentarios: </font>\n",
        "\n",
        "---\n",
        "\n",
        "Aquí especificamos el tipo de gráfico, guiando a ChatGPT en la creación de nuestro visual. Podemos notar que en un gráfico de barras el enfoque está más centrado en las categorías, además de ser una forma más fluida de leer textos que podrían ser demasiado extensos para un gráfico de columnas.\n"
      ],
      "metadata": {
        "id": "JtsP9QD1QrpC"
      }
    },
    {
      "cell_type": "markdown",
      "source": [
        "### **3a Pregunta:** ¿Cómo fueron las ventas a lo largo de los meses en 2023?\n"
      ],
      "metadata": {
        "id": "J_r_YqGlQ3RN"
      }
    },
    {
      "cell_type": "markdown",
      "source": [
        "> #### <strong><font color=\"7b71ff\" size=6>Prompt:</font></strong>\n",
        "\n",
        "Tenemos un DataFrame llamado \"df\" y queremos construir un gráfico de líneas que muestre las ventas totales mensuales de Zoop.\n",
        "\n",
        "En \"df\", tenemos las siguientes columnas:\n",
        "* fecha: con las fechas de las compras en formato datetime (`aaaa-mm-dd`)\n",
        "* facturación: calculada como el producto del precio unitario y la cantidad, sumado al costo de envío de cada venta.\n",
        "\n",
        "Deseamos crear una visualización que muestre las ventas por mes. Primero, agrupa los datos por mes y luego crea una nueva columna llamada \"mes\" que contenga el nombre de cada mes, traduciendo los meses del índice mediante el siguiente diccionario. Utiliza la columna \"fecha\" para agrupar los datos y construir el gráfico. La columna \"mes\" solo debe usarse para cambiar las etiquetas del eje x.\n",
        "\n",
        "```\n",
        "meses = {\n",
        "    'January': 'Ene',\n",
        "    'February': 'Feb',\n",
        "    'March': 'Mar',\n",
        "    'April': 'Abr',\n",
        "    'May': 'May',\n",
        "    'June': 'Jun',\n",
        "    'July': 'Jul',\n",
        "    'August': 'Ago',\n",
        "    'September': 'Sep',\n",
        "    'October': 'Oct',\n",
        "    'November': 'Nov',\n",
        "    'December': 'Dic'\n",
        "}\n",
        "```\n",
        "\n",
        "\n",
        "Utiliza las bibliotecas de visualización de datos de Python para crear esta visualización.\n"
      ],
      "metadata": {
        "id": "PaRBTlLgRMot"
      }
    },
    {
      "cell_type": "code",
      "source": [],
      "metadata": {
        "id": "oIHvCV0--HCy"
      },
      "execution_count": null,
      "outputs": []
    },
    {
      "cell_type": "code",
      "source": [],
      "metadata": {
        "id": "vu5IDFOr-G5L"
      },
      "execution_count": null,
      "outputs": []
    },
    {
      "cell_type": "markdown",
      "source": [
        "<font color=\"7b71ff\" size=4> Comentarios: </font>\n",
        "\n",
        "---\n",
        "\n",
        "Cuando tenemos una cantidad mayor de períodos en nuestros datos, vale la pena recurrir a gráficos de líneas, que son ideales para series temporales. Dado que nuestros datos son mensuales, utilizar un gráfico de columnas, por ejemplo, reduciría la percepción de la secuencia de los datos. Las líneas ofrecen una mayor sensación de continuidad.\n",
        "\n",
        "Siéntete libre de formular algunas hipótesis sobre los momentos de alta y baja en las compras.\n"
      ],
      "metadata": {
        "id": "_TI2LDquTpz_"
      }
    },
    {
      "cell_type": "markdown",
      "source": [
        "##**2.3 - Componiendo datos dinámicos**"
      ],
      "metadata": {
        "id": "jjxAkyE4T1PY"
      }
    },
    {
      "cell_type": "markdown",
      "source": [
        "\n",
        "Construimos algunos visuales interesantes para comparar los datos, mostrando las facturaciones de Zoop. Ahora, pasemos a una nueva categoría de visuales: composición.\n",
        "\n",
        "Vamos a hacer una composición dinámica de los datos. Para ello, añadiremos más variables al análisis, incorporando 3 variables diferentes, siendo una de ellas categórica."
      ],
      "metadata": {
        "id": "Ge60lSmKUM-T"
      }
    },
    {
      "cell_type": "markdown",
      "source": [
        "###**4a Pregunta:** ¿Cómo está dividida la venta por trimestre por método de pago? ¿Existe algún período en el que algún tipo de pago se destaque?\n"
      ],
      "metadata": {
        "id": "OkXV3JTaVwQQ"
      }
    },
    {
      "cell_type": "markdown",
      "source": [
        "> #### <strong><font color=\"7b71ff\" size=6>Prompt:</font></strong>\n",
        "\n",
        "Tenemos un DataFrame llamado \"df\" y queremos construir un gráfico de barras apiladas que muestre las ventas por trimestre en relación con el método de pago de Zoop.\n",
        "\n",
        "En \"df\", tenemos las siguientes columnas:\n",
        "* fecha: con las fechas de las compras en formato datetime (`aaaa-mm-dd`)\n",
        "* facturacion: con los valores de las ventas\n",
        "* metodo_pago: con el método de pago elegido en la compra\n",
        "\n",
        "Deseamos crear una visualización que muestre las ventas por trimestre, agrupando los métodos de pago de cada trimestre correspondientes a cada compra.\n",
        "\n",
        "Utiliza las bibliotecas de visualización de datos de Python para crear esta visualización.\n"
      ],
      "metadata": {
        "id": "JblkLnxXWEO-"
      }
    },
    {
      "cell_type": "code",
      "source": [],
      "metadata": {
        "id": "guwcgCqk-EQG"
      },
      "execution_count": null,
      "outputs": []
    },
    {
      "cell_type": "code",
      "source": [],
      "metadata": {
        "id": "90Opj9e4-FPX"
      },
      "execution_count": null,
      "outputs": []
    },
    {
      "cell_type": "markdown",
      "source": [
        "<font color=\"7b71ff\" size=4> Comentarios: </font>\n",
        "\n",
        "---\n",
        "\n",
        "El gráfico de columnas apiladas añade a la comparación entre períodos o categorías, la comparación también entre los datos de cada período/categoría. Es como si pusiéramos una \"lupa\" en cada columna y visualizáramos la composición de cada una de acuerdo con la variable deseada (aquí, las formas de pago).\n",
        "\n",
        "Siéntete libre de formular algunas hipótesis sobre las ventas por trimestre combinadas con el tipo de pago y qué ideas podemos obtener de esta base de datos.\n"
      ],
      "metadata": {
        "id": "qSypZ_2bmp_j"
      }
    },
    {
      "cell_type": "markdown",
      "source": [
        "## **3.1 - Componiendo datos estáticos**\n",
        "\n",
        "---"
      ],
      "metadata": {
        "id": "F4d02EQgm57o"
      }
    },
    {
      "cell_type": "markdown",
      "source": [
        "Inicialmente, presentaremos un ejemplo de cómo podemos utilizar la comparación de datos estáticos, es decir, un recorte en el tiempo o de las variables que poseemos."
      ],
      "metadata": {
        "id": "AlNZXGe4nB9V"
      }
    },
    {
      "cell_type": "markdown",
      "source": [
        "### **5ª Pregunta:** ¿Cuál es la proporción de la clientela que participa en nuestro programa de cashback?"
      ],
      "metadata": {
        "id": "K1Zd-qB0nG4y"
      }
    },
    {
      "cell_type": "markdown",
      "source": [
        "> #### <strong><font color=\"7b71ff\" size=6>Prompt:</font></strong>\n",
        "\n",
        "Tenemos un DataFrame llamado \"df\" y queremos construir un gráfico que muestre la proporción de usuarios(as) que están participando en el programa de cashback de Zoop.\n",
        "\n",
        "En \"df\", tenemos la columna \"cashback\" que contiene estos datos.\n",
        "\n",
        "Utiliza las bibliotecas de visualización de datos de Python para crear esta visualización.\n"
      ],
      "metadata": {
        "id": "BMMcUocynuHZ"
      }
    },
    {
      "cell_type": "code",
      "source": [],
      "metadata": {
        "id": "0GkWNql096-W"
      },
      "execution_count": null,
      "outputs": []
    },
    {
      "cell_type": "code",
      "source": [],
      "metadata": {
        "id": "zgGt0j7B96yz"
      },
      "execution_count": null,
      "outputs": []
    },
    {
      "cell_type": "markdown",
      "source": [
        "> #### <strong><font color=\"7b71ff\" size =6>Prompt:</font></strong>\n",
        "\n",
        "¿Podrías utilizar el color rojo y mantener el azul y cambiar el gráfico anterior a uno tipo rosquilla?\n",
        "\n",
        "Utiliza las bibliotecas de visualización de datos de Python para crear esta visualización.\n"
      ],
      "metadata": {
        "id": "PobyxvuVoJcs"
      }
    },
    {
      "cell_type": "code",
      "source": [],
      "metadata": {
        "id": "IFLDq1fR94iG"
      },
      "execution_count": null,
      "outputs": []
    },
    {
      "cell_type": "code",
      "source": [],
      "metadata": {
        "id": "W2RPn0R994dT"
      },
      "execution_count": null,
      "outputs": []
    },
    {
      "cell_type": "markdown",
      "source": [
        "<font color=\"7b71ff\" size=4> Comentarios: </font>\n",
        "\n",
        "---\n",
        "\n",
        "¡Mira eso! Una vez más, la IA nos presentó una buena idea de qué gráfico aplicar para este caso, pero ¿notaste que \"ella\" no tiene idea de los datos que poseemos?\n",
        "\n",
        "Debemos estar atentos a esto, ya que solo le proporcionamos los nombres de las columnas y los datos que había allí. La IA no puede saber si un valor es positivo o negativo, por ejemplo. Por eso, el \"no\" estaba en azul y el \"sí\" en verde. En el siguiente prompt, le indicamos que sustituyera el color verde por el rojo (sin mencionar el valor real de los datos) y pedimos una modificación en el visual.\n",
        "\n",
        "¿Qué tal si experimentas hacer otros pedidos y ves cómo se comporta ChatGPT?\n",
        "\n",
        "Hablando del gráfico, los gráficos de sectores son ideales para pocas categorías de datos, preferiblemente datos dicotómicos (2 categorías, como sí y no, gato y perro...). Representan la proporción de los datos de manera estática."
      ],
      "metadata": {
        "id": "8l2x5b6hp599"
      }
    },
    {
      "cell_type": "markdown",
      "source": [
        "## **3.2 - Distribuyendo Datos**\n",
        "\n",
        "---\n"
      ],
      "metadata": {
        "id": "SNbkQrsFqFNk"
      }
    },
    {
      "cell_type": "markdown",
      "source": [
        "Con la ayuda de la IA, generaremos más gráficos que serán importantes para la construcción del storytelling del informe de Zoop, según lo solicitado. Ahora, partiendo de la distribución de datos, vamos a analizar el perfil de los clientes y cómo evalúan sus compras en Zoop."
      ],
      "metadata": {
        "id": "Ug_Y1GAoqTzO"
      }
    },
    {
      "cell_type": "markdown",
      "source": [
        "### **6ª Pregunta:** ¿Cómo están distribuidas las calificaciones de la compra? ¿Tenemos buenos números en general?  \n"
      ],
      "metadata": {
        "id": "U_N9EmtCqX2h"
      }
    },
    {
      "cell_type": "markdown",
      "source": [
        "Vamos a pedirle a ChatGPT que nos ayude a construir este visual. Veamos si esta IA puede representar estos datos con un visual adecuado."
      ],
      "metadata": {
        "id": "EF6gJ5-UqxPO"
      }
    },
    {
      "cell_type": "markdown",
      "source": [
        "> #### <strong><font color=\"7b71ff\" size=6>Prompt:</font></strong>\n",
        "\n",
        "Tenemos un DataFrame llamado \"df\" y queremos construir un gráfico que muestre la distribución de las evaluaciones del público en relación con las compras realizadas en la tienda online.\n",
        "\n",
        "En \"df\", tenemos la columna \"nota\" con las calificaciones otorgadas por cada usuario en relación con la compra que realizaron, que varían de 0 a 10 en números enteros.\n",
        "\n",
        "Deseamos crear una visualización que muestre la distribución de estos datos.\n",
        "\n",
        "Utiliza las bibliotecas de visualización de datos de Python para crear este gráfico.\n"
      ],
      "metadata": {
        "id": "zx_gd4sDrJif"
      }
    },
    {
      "cell_type": "code",
      "source": [],
      "metadata": {
        "id": "2T2Oli-291qg"
      },
      "execution_count": null,
      "outputs": []
    },
    {
      "cell_type": "code",
      "source": [],
      "metadata": {
        "id": "vOEZcqg592nl"
      },
      "execution_count": null,
      "outputs": []
    },
    {
      "cell_type": "markdown",
      "source": [
        "<font color=\"7b71ff\" size=4> Comentarios: </font>\n",
        "\n",
        "---\n",
        "\n",
        "Una vez más, no necesitamos especificar directamente el tipo de gráfico, ya que al mencionar la distribución de valores numéricos de una simple columna, ChatGPT logró interpretar y proporcionar el código para un histograma de columnas. Este gráfico es ideal para presentar la distribución de una muestra de datos o población. Cada columna aquí representa la frecuencia de repetición de un valor.\n",
        "\n",
        "¿Te gustaría experimentar haciendo lo mismo solo con las edades?\n"
      ],
      "metadata": {
        "id": "HPkcf36FruTa"
      }
    },
    {
      "cell_type": "markdown",
      "source": [
        "### **7ª Pregunta:** ¿Cómo está distribuida nuestra audiencia por edad y sexo biológico? ¿Existe algún grupo que sobresalga?\n"
      ],
      "metadata": {
        "id": "4rCwNOpor_3f"
      }
    },
    {
      "cell_type": "markdown",
      "source": [
        "> #### <strong><font color=\"7b71ff\" size=6>Prompt:</font></strong>\n",
        "\n",
        "Tenemos un DataFrame llamado \"df\" y queremos construir un gráfico que muestre la distribución de nuestra audiencia por edad y sexo biológico.\n",
        "\n",
        "En \"df\", tenemos las columnas:\n",
        "* edad: edad de la persona que realizó la compra\n",
        "* sexo_biologico: sexo biológico de la persona que realizó la compra, con datos categóricos\n",
        "\n",
        "Deseamos crear una visualización que muestre la distribución de estos datos.\n",
        "\n",
        "Utiliza las bibliotecas de visualización de datos de Python para crear esta visualización.\n"
      ],
      "metadata": {
        "id": "KcN5kO0IsL3j"
      }
    },
    {
      "cell_type": "code",
      "source": [],
      "metadata": {
        "id": "VG2IJpls9y8e"
      },
      "execution_count": null,
      "outputs": []
    },
    {
      "cell_type": "code",
      "source": [],
      "metadata": {
        "id": "VQJ0ru5z9zce"
      },
      "execution_count": null,
      "outputs": []
    },
    {
      "cell_type": "markdown",
      "source": [
        "<font color=\"7b71ff\" size=4> Comentarios: </font>\n",
        "\n",
        "---\n",
        "El gráfico generado es poco práctico, ya que compila los datos del sexo biológico 'Masculino' y 'Femenino' en el gráfico de violín. Necesitamos darle una instrucción adicional a GPT para elegir un visual más adecuado.\n"
      ],
      "metadata": {
        "id": "E4paklFNtAcj"
      }
    },
    {
      "cell_type": "markdown",
      "source": [
        "> #### <strong><font color=\"7b71ff\" size=6>Prompt:</font></strong>\n",
        "\n",
        "Creo que podemos mejorar este gráfico. ¿Qué te parece cambiar a un boxplot?\n"
      ],
      "metadata": {
        "id": "aLtugLAptYov"
      }
    },
    {
      "cell_type": "code",
      "source": [],
      "metadata": {
        "id": "Jqqz4TlQ9v6q"
      },
      "execution_count": null,
      "outputs": []
    },
    {
      "cell_type": "code",
      "source": [],
      "metadata": {
        "id": "PAqCODSk9xBY"
      },
      "execution_count": null,
      "outputs": []
    },
    {
      "cell_type": "markdown",
      "source": [
        "<font color=\"7b71ff\" size=4> Comentarios: </font>\n",
        "\n",
        "---\n",
        "\n",
        "Esta vez fue necesario guiar a la IA para generar una visualización mejor para nuestros análisis.\n",
        "\n",
        "El gráfico representado es un boxplot (diagrama de caja) que es ideal para representar un conjunto de datos de acuerdo con 5 medidas de interés: valor máximo, mínimo, 1º cuartil (donde están situados el 25% de los datos), 2º cuartil o mediana (donde están situados el 50% de los datos) y 3º cuartil (donde están situados el 75% de los datos).\n",
        "\n",
        "¿Recuerdas el `describe()`? Este gráfico presenta en un solo elemento gran parte de los datos que la función muestra en tabla.\n",
        "\n",
        "Concluimos la 1ª versión de los 7 visuales que utilizaremos en nuestro proyecto. Ahora, pasaremos a la aplicación de las técnicas de storytelling para mejorar los visuales y adaptarlos a la identidad visual de Zoop antes de la exportación.\n"
      ],
      "metadata": {
        "id": "9zx_z6_atzI1"
      }
    },
    {
      "cell_type": "markdown",
      "source": [
        "## **4.1 - Definiendo los colores del proyecto**\n",
        "\n",
        "---\n"
      ],
      "metadata": {
        "id": "iY_2Eyb_t5eJ"
      }
    },
    {
      "cell_type": "markdown",
      "source": [
        "Ahora, vamos a explorar la importancia de los colores en la visualización de datos, discutir cómo las personas perciben e interpretan la información visual, y abordar la diferencia entre la capacidad de la inteligencia artificial y la visión humana en lo que respecta a la elección de colores y accesibilidad.\n",
        "\n"
      ],
      "metadata": {
        "id": "O2A2lR9Rudzm"
      }
    },
    {
      "cell_type": "markdown",
      "source": [
        "### Paleta de colores de Zoop:"
      ],
      "metadata": {
        "id": "Pk3CRrLIujxQ"
      }
    },
    {
      "cell_type": "markdown",
      "source": [
        "<img src=\"https://raw.githubusercontent.com/alura-cursos/ia-datascience-dataviz/main/imagens/paleta_cores/zoop_paleta_cores.png\" alt=\"inserir alt\" width=480>\n",
        "\n",
        "&nbsp;\n",
        "\n",
        "#### Paleta del proyecto\n",
        "\n",
        "|Rojo|||\n",
        "|------|------|------|\n",
        "| Rojo_1 |Rojo_2 |Rojo_3 |\n",
        "|#e23155 | #cc2c4e| #b32742 |\n",
        "| ![adicionar desc](https://raw.githubusercontent.com/alura-cursos/ia-datascience-dataviz/main/imagens/paleta_cores/VERMELHO_1.png)  |![adicionar desc](https://raw.githubusercontent.com/alura-cursos/ia-datascience-dataviz/main/imagens/paleta_cores/VERMELHO_2.png) |![adicionar desc](https://raw.githubusercontent.com/alura-cursos/ia-datascience-dataviz/main/imagens/paleta_cores/VERMELHO_3.png) |\n",
        "\n",
        "&nbsp;\n",
        "\n",
        "|Azul|||\n",
        "|------|------|------|\n",
        "| AZUL_1 |AZUL_2 |AZUL_3 |\n",
        "|#203f75 | #1c3867| #19325b |\n",
        "| ![adicionar desc](https://raw.githubusercontent.com/alura-cursos/ia-datascience-dataviz/main/imagens/paleta_cores/AZUL_1.png)  |![adicionar desc](https://raw.githubusercontent.com/alura-cursos/ia-datascience-dataviz/main/imagens/paleta_cores/AZUL_2.png) |![adicionar desc](https://raw.githubusercontent.com/alura-cursos/ia-datascience-dataviz/main/imagens/paleta_cores/AZUL_3.png) |\n",
        "\n",
        "&nbsp;\n",
        "\n",
        "|Gris||||||\n",
        "|------|------|------|------|------|------|\n",
        "|BLANCO| GRIS_1 |GRIS_2 |GRIS_3 |GRIS_4 |GRIS_5 |\n",
        "|#ffffff | #ebebeb | #d9d9d9| #cccccc | #555655| #231f20 |\n",
        "| ![adicionar desc](https://raw.githubusercontent.com/alura-cursos/ia-datascience-dataviz/main/imagens/paleta_cores/BRANCO.png)  |![adicionar desc](https://raw.githubusercontent.com/alura-cursos/ia-datascience-dataviz/main/imagens/paleta_cores/CINZA_1.png) |![adicionar desc](https://raw.githubusercontent.com/alura-cursos/ia-datascience-dataviz/main/imagens/paleta_cores/CINZA_2.png) |![adicionar desc](https://raw.githubusercontent.com/alura-cursos/ia-datascience-dataviz/main/imagens/paleta_cores/CINZA_3.png) |![adicionar desc](https://raw.githubusercontent.com/alura-cursos/ia-datascience-dataviz/main/imagens/paleta_cores/CINZA_4.png)|![adicionar desc](https://raw.githubusercontent.com/alura-cursos/ia-datascience-dataviz/main/imagens/paleta_cores/CINZA_5.png)|\n",
        "\n",
        "&nbsp;\n",
        "\n",
        "|Aqua|||\n",
        "|------|------|------|\n",
        "| AQUA_1 |AQUA_2 |AQUA_3 |\n",
        "|#addcd4 | #9fccc5| #96bfb9 |\n",
        "| ![adicionar desc](https://raw.githubusercontent.com/alura-cursos/ia-datascience-dataviz/main/imagens/paleta_cores/AQUA_1.png)  |![adicionar desc](https://raw.githubusercontent.com/alura-cursos/ia-datascience-dataviz/main/imagens/paleta_cores/AQUA_2.png) |![adicionar desc](https://raw.githubusercontent.com/alura-cursos/ia-datascience-dataviz/main/imagens/paleta_cores/AQUA_3.png) |\n",
        "\n",
        "&nbsp;\n"
      ],
      "metadata": {
        "id": "46BuOvoyvZDR"
      }
    },
    {
      "cell_type": "code",
      "source": [
        "# Adicionamos los colores al proyecto\n",
        "ROJO_1,\tROJO_2,\tROJO_3 = \"#e23155\",\t\"#cc2c4e\", \"#b32742\"\n",
        "AZUL_1,\tAZUL_2,\tAZUL_3 = \"#203f75\",\t\"#1c3867\", \"#19325b\"\n",
        "BLANCO,GRIS_1, GRIS_2, GRIS_3, GRIS_4,\tGRIS_5 = \"#ffffff\", \"#ebebeb\",\t\"#d9d9d9\", \"#cccccc\", \"#555655\", \"#231f20\"\n",
        "AQUA_1,\tAQUA_2,\tAQUA_3 = \"#addcd4\",\t\"#9fccc5\", \"#96bfb9\""
      ],
      "metadata": {
        "id": "Me629U_iwEky"
      },
      "execution_count": null,
      "outputs": []
    },
    {
      "cell_type": "markdown",
      "source": [
        "<font size=5> ***¿Por qué definimos nosotros mismos los colores del proyecto?*** </font>\n"
      ],
      "metadata": {
        "id": "FKvxEoocwe0h"
      }
    },
    {
      "cell_type": "markdown",
      "source": [
        "1. **Percepción humana de los colores:**\n",
        "\n",
        "Nuestro cerebro interpreta los colores de manera única, asociando emociones y significados a cada tonalidad. Es importante, al elegir los colores para representar datos, considerar la percepción humana para asegurar que la información se transmita de manera clara y eficaz. Además de seguir la identidad visual de Zoop, es decir, dar esa sensación de que el visual es de Zoop.\n",
        "\n",
        "2. **Accesibilidad:**\n",
        "\n",
        "Ciertas combinaciones de colores pueden ser difíciles de percibir para personas con deficiencias visuales. Nuestra responsabilidad como desarrolladores es garantizar que nuestras visualizaciones sean inclusivas. Aquí seguiremos algunas directrices y recomendaciones para crear gráficos accesibles.\n",
        "\n",
        "3. **IA vs. elección de colores:**\n",
        "\n",
        "Mientras que la IA puede realizar tareas complejas, como análisis de datos y reconocimiento de patrones, aún no posee el discernimiento humano cuando se trata de elegir colores significativos y garantizar la accesibilidad. Aquí es donde entra nuestra intervención creativa y consideración humana.\n",
        "\n",
        "4. **Experiencia visual:**\n",
        "\n",
        "¿Las personas pueden entender la información transmitida por los gráficos? ¿Existe algún \"conflicto\" entre los colores que perjudica la claridad del mensaje? Vamos a explorar técnicas para mejorar la experiencia visual, como el contraste adecuado, la elección cuidadosa de los colores de la paleta y el destaque de elementos clave.\n",
        "\n",
        "¿Vamos ahora a sumergirnos en la práctica e incorporar estos conceptos a nuestro proyecto?\n"
      ],
      "metadata": {
        "id": "Ow7ELrgow1h8"
      }
    },
    {
      "cell_type": "markdown",
      "source": [
        "## **4.2 - Añadiendo etiquetas y rótulos**"
      ],
      "metadata": {
        "id": "uMM8DVcByPe3"
      }
    },
    {
      "cell_type": "markdown",
      "source": [
        "Ya hemos creado anteriormente los 7 visuales y definido los colores del proyecto. Ahora, vamos a elegir solo uno de los visuales para comprender cómo podemos utilizar la IA para agregar los colores ideales, las etiquetas de los datos, títulos y etiquetas de los ejes.\n",
        "\n",
        "Entonces, tomaremos el código de ese primer gráfico (Métodos de pago utilizados) y exploraremos estos cambios a través de la utilización de la IA."
      ],
      "metadata": {
        "id": "eUirAlyP66lC"
      }
    },
    {
      "cell_type": "code",
      "source": [],
      "metadata": {
        "id": "FrvfCM5c9irn"
      },
      "execution_count": null,
      "outputs": []
    },
    {
      "cell_type": "code",
      "source": [],
      "metadata": {
        "id": "hXV8LKx-9kNb"
      },
      "execution_count": null,
      "outputs": []
    },
    {
      "cell_type": "markdown",
      "source": [
        "<strong><font color=\"7b71ff\" size =6>Prompt:</font></strong>\n",
        "\n",
        "Ahora llegó el momento de refinar nuestras visualizaciones. Comencemos con el primer gráfico que hicimos, el de los métodos de pago.\n",
        "\n",
        "Nuestro gráfico necesita seguir la identidad visual de Zoop, con el fondo de la figura y del gráfico en el color GRIS_1, las columnas en el color ROJO_1 y el tamaño de la figura debe ser de (10, 6).\n",
        "\n",
        "El título de la figura es \"Métodos de pago más utilizados en 2023\" con tamaño 18 y su color GRIS_5.\n",
        "\n",
        "Las etiquetas del eje y (yticks) deben ser suprimidas así como la etiqueta del eje y (ylabel) y las etiquetas, y la etiqueta del eje x (xticks y xlabel) deben tener tamaño 12 con el color AZUL_1. Los bordes superior, derecho e izquierdo del gráfico deben ser suprimidos.\n",
        "\n",
        "Además, es necesario mostrar el total de cada método de pago encima de cada columna, con el texto también en el color AZUL_1 y tamaño 12.\n",
        "\n",
        "Utiliza las bibliotecas de visualización de datos de Python para crear esta visualización. Recuerda que las variables de los colores que estamos utilizando tienen valores de colores ya en hexadecimal."
      ],
      "metadata": {
        "id": "Y7M7NxMO-zpp"
      }
    },
    {
      "cell_type": "code",
      "source": [],
      "metadata": {
        "id": "sFcS3Yq-9gca"
      },
      "execution_count": null,
      "outputs": []
    },
    {
      "cell_type": "code",
      "source": [],
      "metadata": {
        "id": "XxX_MQCR9hub"
      },
      "execution_count": null,
      "outputs": []
    },
    {
      "cell_type": "markdown",
      "source": [
        "<font color=\"7b71ff\" size=4> Comentarios: </font>\n",
        "\n",
        "---\n",
        "¡Vaya! Parece otro gráfico, ¿verdad?\n",
        "\n",
        "Eliminamos muchos elementos distractores y añadimos solo la información que nos interesaba. Además, cambiamos el diseño de un estado genérico a un formato que se ajusta a la identidad de Zoop, dejando nuestro gráfico listo para ser utilizado, por ejemplo, en el informe de ventas.\n",
        "\n",
        "Más adelante aplicaremos estas acciones a los otros visuales. Nuestro enfoque aquí es entender las técnicas de storytelling y cómo combinarlas con la IA puede ser bastante útil.\n"
      ],
      "metadata": {
        "id": "NDFhZh_SBDlK"
      }
    },
    {
      "cell_type": "markdown",
      "source": [
        "## **4.3 - Añadiendo textos**\n",
        "\n",
        "---\n"
      ],
      "metadata": {
        "id": "wy6Gl_00BN8y"
      }
    },
    {
      "cell_type": "markdown",
      "source": [
        "Ya hemos refinado uno de los gráficos en la etapa anterior. Ahora, vamos a traer ese gráfico, añadiendo un elemento más que puede ser importante para los análisis: textos informativos. Utilizaremos la IA nuevamente para este proceso."
      ],
      "metadata": {
        "id": "Z-sK2ZcFBfB9"
      }
    },
    {
      "cell_type": "markdown",
      "source": [
        "> #### <strong><font color=\"7b71ff\" size =6>Prompt:</font></strong>\n",
        "\n",
        "¡El gráfico quedó muy bien!\n",
        "\n",
        "Ahora quiero añadir un texto dentro del área del gráfico, ¿vamos allá?\n",
        "\n",
        "Para ello, suma los valores de las dos primeras columnas, divide por la suma de todas las columnas y convierte a formato de porcentaje, almacenando en la variable \"porcentaje\".\n",
        "\n",
        "Ahora, en la posición x=1.5 y y=2500, añade el siguiente texto con tamaño 10 y color AZUL_3: f\"$\\\\bf{porcentaje:.2f}$% de los clientes utilizan Tarjeta de Crédito o Transferencia \\npara el pago. Sería interesante considerar asociaciones con \\nbancos para la creación de un Zoop Pay con el fin de fidelizar \\na nuestra clientela.\"."
      ],
      "metadata": {
        "id": "rA4Nrw1cBi88"
      }
    },
    {
      "cell_type": "code",
      "source": [],
      "metadata": {
        "id": "Yn00W8j79Zqa"
      },
      "execution_count": null,
      "outputs": []
    },
    {
      "cell_type": "code",
      "source": [],
      "metadata": {
        "id": "JyOzs6s59cjw"
      },
      "execution_count": null,
      "outputs": []
    },
    {
      "cell_type": "markdown",
      "source": [
        "<font color=\"7b71ff\" size=4> Comentarios: </font>\n",
        "\n",
        "---\n",
        "\n",
        "Aprovechamos el área útil para presentar una *idea* que tuvimos al describir los datos de los métodos de pago. Esto aumenta significativamente la relevancia de los datos representados y proporciona más información a quien lo lee.\n"
      ],
      "metadata": {
        "id": "i-gjTFXiCa6l"
      }
    },
    {
      "cell_type": "markdown",
      "source": [
        "## **4.4 - Agregar elementos visuales**\n",
        "\n",
        "---\n"
      ],
      "metadata": {
        "id": "iDkaLxz4ChsD"
      }
    },
    {
      "cell_type": "markdown",
      "source": [
        "¿Qué tal el uso de textos informativos, verdad? ¿Y si ahora añadimos otros elementos visuales a uno de nuestros gráficos?\n",
        "\n",
        "Vamos a elegir ahora el gráfico de líneas (Ventas totales mensuales de Zoop) y aplicar una técnica más a él mediante el uso de la IA.\n"
      ],
      "metadata": {
        "id": "d0u1EJ6KC1b1"
      }
    },
    {
      "cell_type": "code",
      "source": [],
      "metadata": {
        "id": "XsIYrUqW9UgH"
      },
      "execution_count": null,
      "outputs": []
    },
    {
      "cell_type": "code",
      "source": [],
      "metadata": {
        "id": "Lye9rKE-9V8S"
      },
      "execution_count": null,
      "outputs": []
    },
    {
      "cell_type": "markdown",
      "source": [
        "> #### <strong><font color=\"7b71ff\" size =6>Prompt:</font></strong>\n",
        "\n",
        "¿Vamos a explorar otro de los gráficos que hicimos? Ahora vamos a utilizar el de Ventas totales mensuales de Zoop. La variable que pasa los valores mensuales es:\n",
        "```\n",
        "ventas_mensuales = df.groupby(df['fecha'].dt.to_period('M'))['facturacion'].sum().reset_index()\n",
        "```\n",
        "Pero debes sustituirla por:\n",
        "```\n",
        "df['mes'] = df['fecha'].dt.strftime('%B')\n",
        "ventas_mensuales = df.groupby('mes')['facturacion'].sum().reindex(meses.keys())\n",
        "```\n",
        "En el que `df['fecha']` corresponde a las fechas en formato datetime y `df['facturacion']` a los valores de las ventas.\n",
        "\n",
        "Y lo que generó el gráfico original fue:\n",
        "\n",
        "```\n",
        "sns.lineplot(x='mes', y='facturacion', data=ventas_mensuales, marker='o', sort=False)\n",
        "```\n",
        "Pero debes utilizar únicamente la biblioteca matplotlib con la creación del gráfico siguiendo este ejemplo:\n",
        "\n",
        "```\n",
        "plt.plot(ventas_mensuales.index, ventas_mensuales, marker='o', color='#1890FF', linewidth=2)\n",
        "```\n",
        "\n",
        "Nuestro gráfico debe seguir la identidad visual de Zoop, con el fondo de la figura y del gráfico en color GRIS_1, la línea en color AZUL_1 y el tamaño de la figura debe ser de (12, 6).\n",
        "\n",
        "El título de la figura es \"Ventas totales mensuales en 2023\" con tamaño 18 y su color GRIS_5.\n",
        "\n",
        "Las etiquetas del eje y (yticks) deben estar en el formato \"MXN$ valor M\" con dos decimales, tamaño 12 y color AZUL_1.\n",
        "\n",
        "Las etiquetas del eje X (xticks) deben tener tamaño 12 con color AZUL_1. Los labels de los ejes x e y (xlabel e ylabel) deben ser suprimidos. Los bordes del gráfico en la parte superior y el lado derecho deben ser suprimidos.\n",
        "\n",
        "Utiliza las bibliotecas de visualización de datos de Python para crear esta visualización. Recuerda que las variables de colores que estamos utilizando tienen valores de colores ya en hexadecimal.\n"
      ],
      "metadata": {
        "id": "OW7diglQDdZS"
      }
    },
    {
      "cell_type": "code",
      "source": [],
      "metadata": {
        "id": "qCsO8Oh_9SkC"
      },
      "execution_count": null,
      "outputs": []
    },
    {
      "cell_type": "code",
      "source": [],
      "metadata": {
        "id": "JNAntiF09W1L"
      },
      "execution_count": null,
      "outputs": []
    },
    {
      "cell_type": "markdown",
      "source": [
        "> #### <strong><font color=\"7b71ff\" size =6>Prompt:</font></strong>\n",
        "\n",
        "¡Genial! Ahora que nuestro gráfico ya tiene la identidad visual, vamos a añadir algunos elementos visuales adicionales.\n",
        "\n",
        "Dibuja 4 círculos de radio 200, transparentes con el borde en color ROJO_1 y con el centro en las coordenadas del 5º, 8º, 11º y 12º puntos, respectivamente. A la izquierda de cada círculo enumera del 1 al 4.\n"
      ],
      "metadata": {
        "id": "2AwdD-waFPEX"
      }
    },
    {
      "cell_type": "code",
      "source": [],
      "metadata": {
        "id": "o5_JOMJd9Nhy"
      },
      "execution_count": null,
      "outputs": []
    },
    {
      "cell_type": "code",
      "source": [],
      "metadata": {
        "id": "O7GqzHlg9XWb"
      },
      "execution_count": null,
      "outputs": []
    },
    {
      "cell_type": "markdown",
      "source": [
        "<font color=\"7b71ff\" size=4> Comentarios: </font>\n",
        "\n",
        "---\n",
        "\n",
        "Hemos añadido 4 círculos que representan los puntos con mayor volumen de ventas de Zoop en 2023. Podemos plantear algunas hipótesis:\n",
        "\n",
        "1. En mayo, tenemos una de las fechas más relevantes en ventas: el Día de las Madres, lo que puede justificar el aumento en las ventas de Zoop.\n",
        "2. En agosto, hay una situación que pueden explicar el crecimiento: la vuelta a clases en el segundo semestre en algunos estados de Mexico.\n",
        "3. En noviembre, destaca la Black Friday, uno de los principales períodos de alta en las ventas, considerado de gran relevancia para el comercio minorista.\n",
        "4. En diciembre, tenemos  las festividades de Año Nuevo, consideradas el período de mayores ventas no solo para Zoop, sino para el comercio minorista en general.\n",
        "\n",
        "La recomendación es investigar más a fondo los datos y llegar a tus propias conclusiones.\n"
      ],
      "metadata": {
        "id": "IjV7mgbSF7HL"
      }
    },
    {
      "cell_type": "markdown",
      "source": [
        "Antes de ajustar los últimos 5 visuales de nuestro proyecto, vamos a hacer una pequeña modificación en los 2 primeros, convirtiéndolos en funciones, lo que facilitará más adelante cuando realicemos la exportación\n"
      ],
      "metadata": {
        "id": "ynaOuTScHfzi"
      }
    },
    {
      "cell_type": "markdown",
      "source": [
        "# **Clase 5 - Finalizando el proyecto**"
      ],
      "metadata": {
        "id": "NdXjUc-K6N0r"
      }
    },
    {
      "cell_type": "markdown",
      "source": [
        "Antes de ajustar los últimos 5 visuales de nuestro proyecto, haremos una pequeña modificación en los 2 primeros pasándolos a función, lo que facilitará más adelante cuando realicemos la exportación de los visuales.\n"
      ],
      "metadata": {
        "id": "nPd_trF36h7_"
      }
    },
    {
      "cell_type": "markdown",
      "source": [
        "### **Gráfico 1 - Métodos de pago más utilizados en 2023:**"
      ],
      "metadata": {
        "id": "2RnTvZsv8Ejs"
      }
    },
    {
      "cell_type": "code",
      "source": [],
      "metadata": {
        "id": "SsgOQNU68_qO"
      },
      "execution_count": null,
      "outputs": []
    },
    {
      "cell_type": "code",
      "source": [],
      "metadata": {
        "id": "mqqKAc3q8_i0"
      },
      "execution_count": null,
      "outputs": []
    },
    {
      "cell_type": "markdown",
      "source": [
        "### **Gráfico 2 - Total de ventas mensuales en 2023:**"
      ],
      "metadata": {
        "id": "7__1mu6pA5iX"
      }
    },
    {
      "cell_type": "code",
      "source": [],
      "metadata": {
        "id": "RIHH6PyH89ir"
      },
      "execution_count": null,
      "outputs": []
    },
    {
      "cell_type": "code",
      "source": [],
      "metadata": {
        "id": "zP_x0_QF89Ul"
      },
      "execution_count": null,
      "outputs": []
    },
    {
      "cell_type": "markdown",
      "source": [
        "Ahora que guardamos los 2 primeros gráficos en función, vamos a modificar uno más, **Facturación por categoría de producto en 2023**, utilizando las técnicas de storytelling que ya hemos aprendido.\n"
      ],
      "metadata": {
        "id": "j4QB6Ph8XyPt"
      }
    },
    {
      "cell_type": "markdown",
      "source": [
        "### **Gráfico 3 - Facturación por categoría de producto en 2023:**\n"
      ],
      "metadata": {
        "id": "cC-LvjjVYMXJ"
      }
    },
    {
      "cell_type": "markdown",
      "source": [
        "Vamos a continuar con los gráficos generados a lo largo de las clases, partiendo ahora del gráfico de facturación por categoría de producto aplicando las técnicas de storytelling que aprendimos aquí en el curso mediante el uso de la IA.\n"
      ],
      "metadata": {
        "id": "4vux7UVbYXLz"
      }
    },
    {
      "cell_type": "code",
      "source": [],
      "metadata": {
        "id": "ygY4gS5K87Zr"
      },
      "execution_count": null,
      "outputs": []
    },
    {
      "cell_type": "markdown",
      "source": [
        "> #### <strong><font color=\"7b71ff\" size=6>Prompt:</font></strong>\n",
        "\n",
        "¿Vamos a proceder con otro gráfico? Ahora, vamos refinar el gráfico de facturación por categoría. Recuerda que este gráfico fue de barras horizontales.\n",
        "\n",
        "El script original del gráfico es el siguiente:\n",
        "\n",
        "```python\n",
        "\n",
        "# 1. Calcular la facturación para cada compra\n",
        "df['facturacion'] = (df['precio_unitario'] * df['cantidad']) + df['envio']\n",
        "\n",
        "# 2. Agrupar por categoría y sumar la facturación\n",
        "facturacion_categoria = df.groupby('categoria')['facturacion'].sum().reset_index()\n",
        "\n",
        "# 3. Ordenar los datos por facturación de mayor a menor\n",
        "facturacion_categoria = facturacion_categoria.sort_values(by='facturacion', ascending=False)\n",
        "\n",
        "# 4. Crear el gráfico de barras horizontales\n",
        "plt.figure(figsize=(10, 6))\n",
        "sns.barplot(x='facturacion', y='categoria', data=facturacion_categoria, palette='viridis',orient='h')\n",
        "\n",
        "# 5. Añadir etiquetas y título\n",
        "plt.title('Facturación por Categoría de Producto', fontsize=16)\n",
        "plt.xlabel('Facturación (en MXN$)', fontsize=12)\n",
        "plt.ylabel('Categoría', fontsize=12)\n",
        "\n",
        "# 6. Mostrar el gráfico\n",
        "plt.show()\n",
        "```\n",
        "Nuestro gráfico debe seguir la identidad visual de Zoop, con el fondo de la figura y del gráfico en el color GRIS_1, las barras en el color AQUA_1 y el tamaño de la figura debe ser de (10, 6).\n",
        "\n",
        "El título de la figura es \"Facturación por categoría de producto en 2023\" con tamaño 18 y su color GRIS_5.\n",
        "\n",
        "Las etiquetas del eje x (xticks) deben ser suprimidas al igual que los labels de los ejes x y y (xlabel y ylabel), y las etiquetas del eje y (yticks) deben tener tamaño 12 con el color AZUL_1. Todas las bordes del gráfico deben ser suprimidas.\n",
        "\n",
        "Además, es necesario mostrar el total de la facturación de cada categoría al lado derecho de cada barra, con el texto también en color AZUL_1 y tamaño 12.\n",
        "\n",
        "También vamos a agregar un texto dentro del área del gráfico. Para ello, divide el valor de la 1ª barra entre la suma de todas las barras y conviértelo en un porcentaje, almacenándolo en la variable \"porcentaje\".\n",
        "\n",
        "Ahora, en la posición x = 0.4e7 y y = 5, agrega el siguiente texto con tamaño 12 y color AZUL_3: `f\"$\\\\bf{porcentaje:.2f}$% de las ventas corresponden únicamente a las ventas de Electrónica.\\nEsto equivale a casi el doble en relación con todas las demás categorías\\npresentes en el portafolio de Zoop.\"`.\n",
        "\n",
        "Utiliza las bibliotecas de visualización de datos de Python para crear esta visualización.\n"
      ],
      "metadata": {
        "id": "NQieRpg1h8zh"
      }
    },
    {
      "cell_type": "code",
      "source": [],
      "metadata": {
        "id": "95i11Mwu85gF"
      },
      "execution_count": null,
      "outputs": []
    },
    {
      "cell_type": "code",
      "source": [],
      "metadata": {
        "id": "lC5AgN8s85ZT"
      },
      "execution_count": null,
      "outputs": []
    },
    {
      "cell_type": "markdown",
      "source": [
        "<font color=\"7b71ff\" size=4> Comentarios: </font>\n",
        "\n",
        "---\n",
        "\n",
        "Hicimos con un solo prompt la inserción de las etiquetas, la modificación de los colores y añadimos un texto explicativo. Con la secuencia de explicaciones para ChatGPT, este reconoce algunos patrones en la construcción y genera parte del código incluso sin más detalles.\n"
      ],
      "metadata": {
        "id": "fhxRtCmbrpjM"
      }
    },
    {
      "cell_type": "markdown",
      "source": [
        "## **5.2 - Ajustando los visuales de composición**\n",
        "\n",
        "---\n"
      ],
      "metadata": {
        "id": "KsEbRFBXsVcV"
      }
    },
    {
      "cell_type": "markdown",
      "source": [
        "Ya hemos llegado a prácticamente la mitad de los gráficos refinados. Ahora, en este tema, ajustaremos 2 más aplicando las técnicas de storytelling que aprendimos aquí en el curso mediante el uso de la IA.\n"
      ],
      "metadata": {
        "id": "hMgOAYDnsfPQ"
      }
    },
    {
      "cell_type": "markdown",
      "source": [
        "### **Gráfico 4 - Ventas por trimestre y método de pago:**"
      ],
      "metadata": {
        "id": "KUwT_68wPtt7"
      }
    },
    {
      "cell_type": "code",
      "source": [],
      "metadata": {
        "id": "QX0rdGsW83ZL"
      },
      "execution_count": null,
      "outputs": []
    },
    {
      "cell_type": "markdown",
      "source": [
        "> #### <strong><font color=\"7b71ff\" size=6>Prompt:</font></strong>\n",
        "\n",
        "Ahora vamos con el gráfico de Ventas por Trimestre y Método de Pago que producimos anteriormente. Vamos a refinarlo usando las siguientes directrices.\n",
        "\n",
        "Recuerda que el script original del gráfico es el siguiente:\n",
        "```python\n",
        "\n",
        "# 1. Crear una nueva columna 'trimestre' que extrae el trimestre de la columna 'fecha'\n",
        "df['trimestre'] = df['fecha'].dt.to_period('Q')\n",
        "\n",
        "# 2. Agrupar los datos por trimestre y método de pago, sumando la facturación\n",
        "ventas_trimestre = df.groupby(['trimestre', 'metodo_pago'])['facturacion'].sum().unstack()\n",
        "\n",
        "# 3. Crear el gráfico de barras apiladas\n",
        "ventas_trimestre.plot(kind='bar', stacked=True, figsize=(10, 6), colormap='viridis')\n",
        "\n",
        "# 4. Añadir etiquetas y título\n",
        "plt.title('Ventas por Trimestre y Método de Pago', fontsize=16)\n",
        "plt.xlabel('Trimestre', fontsize=12)\n",
        "plt.ylabel('Facturación Total', fontsize=12)\n",
        "plt.xticks(rotation=0)  # Rotar las etiquetas del eje x para mayor claridad\n",
        "\n",
        "# 5. Mostrar el gráfico\n",
        "plt.legend(title='Método de Pago por trimestre de 2023')\n",
        "plt.tight_layout()\n",
        "plt.show()\n",
        "\n",
        "```\n",
        "\n",
        "Nuestro gráfico debe seguir la identidad visual de Zoop, con el fondo de la figura y del gráfico en el color GRIS_1 y el tamaño de la figura debe ser de (10, 6). La secuencia de colores de las columnas apiladas (palette) es [BLANCO, GRIS_3, GRIS_1, GRIS_3].\n",
        "\n",
        "El título de la figura es \"Ventas por Trimestre y Método de Pago en 2023\" con tamaño 18 y su color GRIS_5.\n",
        "\n",
        "Las etiquetas del eje x (xticks) deben estar a 0 grados y tener tamaño 12 con el color AZUL_1. Las etiquetas del eje y (yticks) deben estar en el formato f\"MXN$ valor M\" sin decimales y las etiquetas de los ejes x e y (xlabel e ylabel) deben ser suprimidas. Todos los bordes del gráfico deben ser suprimidos(['top','bottom','left','right]).\n",
        "\n",
        "También agrega una cuadrícula punteada en y.\n",
        "\n",
        "Utiliza las bibliotecas de visualización de datos de Python para crear esta visualización.\n"
      ],
      "metadata": {
        "id": "1krG9wE7zRrL"
      }
    },
    {
      "cell_type": "code",
      "source": [],
      "metadata": {
        "id": "KDQDgK1580-3"
      },
      "execution_count": null,
      "outputs": []
    },
    {
      "cell_type": "code",
      "source": [],
      "metadata": {
        "id": "i3rYEAqC8064"
      },
      "execution_count": null,
      "outputs": []
    },
    {
      "cell_type": "markdown",
      "source": [
        "<font color=\"7b71ff\" size=4> Comentarios: </font>\n",
        "\n",
        "---\n",
        "\n",
        "Ajustamos el gráfico de barras apiladas representando con colores más suaves los valores de los métodos de pago. Podemos notar cosas interesantes en este gráfico, como: el 2º y 4º trimestre siendo los momentos en que Zoop factura más con ventas, y también el aumento en los pagos de las compras realizadas por los clientes mediante tarjeta de crédito.\n"
      ],
      "metadata": {
        "id": "HJT8PZtF23f2"
      }
    },
    {
      "cell_type": "markdown",
      "source": [
        "### **Gráfico 5 - Clientes participantes del programa de cashback:**"
      ],
      "metadata": {
        "id": "xQaEH5ul3CPs"
      }
    },
    {
      "cell_type": "markdown",
      "source": [
        "Ahora ha llegado el momento del gráfico de sectores. Ya está bien encaminado, pero necesitamos realizar algunos ajustes.\n"
      ],
      "metadata": {
        "id": "StsTmw_i3N0q"
      }
    },
    {
      "cell_type": "code",
      "source": [],
      "metadata": {
        "id": "HPNBxhSh8yzy"
      },
      "execution_count": null,
      "outputs": []
    },
    {
      "cell_type": "markdown",
      "source": [
        "> #### <strong><font color=\"7b71ff\" size =6>Prompt:</font></strong>\n",
        "\n",
        "Ahora, vamos a refinar el gráfico de dona que produjimos para la proporción de usuarios que se adhieren al programa de cashback.\n",
        "\n",
        "Recuerda que el script original del gráfico es el siguiente:\n",
        "\n",
        "```python\n",
        "plt.figure(figsize=(6, 6))\n",
        "plt.pie(cashback_proporcion, labels=cashback_proporcion.index, autopct='%1.1f%%',\n",
        "        colors=['#FF6666', '#66b3ff'], startangle=90, explode=(0.05, 0), wedgeprops={'width': 0.4})\n",
        "\n",
        "# 3. Añadir título\n",
        "plt.title('Proporción de Usuarios Participando en el Programa de Cashback', fontsize=16)\n",
        "\n",
        "# 4. Mostrar el gráfico\n",
        "plt.axis('equal')  # Asegura que el gráfico sea un círculo\n",
        "plt.show()\n",
        "```\n",
        "\n",
        "Nuestro gráfico debe seguir la identidad visual de Zoop, con el fondo de la figura y del gráfico en el color GRIS_1, el color de la porción de valor \"No\" igual a GRIS_3, el color de la porción de valor \"Sí\" igual a AZUL_1 y el tamaño de la figura debe ser de (6, 6).\n",
        "\n",
        "El título de la figura es \"¿Participan en el programa de cashback?\" con un tamaño de 18 y su color GRIS_5.\n",
        "\n",
        "Las etiquetas de las porciones deben tener el mismo color que las porciones y un tamaño de 12, y los porcentajes deben estar en color BLANCO, también con un tamaño de 12.\n",
        "\n",
        "La propiedad de ancho de la dona (`wedgeprops`) debe ser de 0.4, la posición de los porcentajes dentro de la porción (`pctdistance`) debe ser de 0.8, el ángulo de inicio debe ser de 180 (`startangle`), y sin explosión de porciones.\n",
        "\n",
        "Utiliza las bibliotecas de visualización de datos de Python para crear esta visualización.\n"
      ],
      "metadata": {
        "id": "8MVLAZBb4l4Z"
      }
    },
    {
      "cell_type": "code",
      "source": [],
      "metadata": {
        "id": "3mTu1c-Y8wTi"
      },
      "execution_count": null,
      "outputs": []
    },
    {
      "cell_type": "code",
      "source": [],
      "metadata": {
        "id": "D8tlN45x8wP7"
      },
      "execution_count": null,
      "outputs": []
    },
    {
      "cell_type": "markdown",
      "source": [
        "<font color=\"7b71ff\" size=4> Comentarios: </font>\n",
        "\n",
        "---\n",
        "\n",
        "Hemos modificado otro gráfico, ahora el de dona, para representar la proporción de nuestros(as) clientes. Dimos mayor destaque al \"Sí\", utilizando el color como recurso de punto focal.\n"
      ],
      "metadata": {
        "id": "t-F0cRvT54ki"
      }
    },
    {
      "cell_type": "markdown",
      "source": [
        "## **5.3 - Ajustando los visuales de distribución**\n",
        "\n",
        "---\n"
      ],
      "metadata": {
        "id": "0W8lFf-U6N42"
      }
    },
    {
      "cell_type": "markdown",
      "source": [
        "Ahora vamos con los últimos 2 gráficos antes de la exportación de los visuales. Vamos a aplicar más técnicas de storytelling que aprendimos mediante el uso de la IA.\n"
      ],
      "metadata": {
        "id": "pk9VbSCp6v0g"
      }
    },
    {
      "cell_type": "markdown",
      "source": [
        "### **Gráfico 6 - Evaluaciones de los productos:**\n"
      ],
      "metadata": {
        "id": "ENCbI1v37u03"
      }
    },
    {
      "cell_type": "markdown",
      "source": [
        "Agora vamos para a distribuição das avaliações dos produtos em que criamos um histograma. Vamos adicionar mais um novo elemento visual e realizar alguns ajustes."
      ],
      "metadata": {
        "id": "t6Yp9lPW8SRp"
      }
    },
    {
      "cell_type": "code",
      "source": [],
      "metadata": {
        "id": "AoWfvsEL8uCL"
      },
      "execution_count": null,
      "outputs": []
    },
    {
      "cell_type": "markdown",
      "source": [
        "> #### <strong><font color=\"7b71ff\" size =6>Prompt:</font></strong>\n",
        "\n",
        "Ahora vamos con el gráfico de la Distribución de las Evaluaciones de Compra que produjimos anteriormente. Vamos a refinarlo usando las siguientes orientaciones.\n",
        "\n",
        "El script original que genera el gráfico es el siguiente:\n",
        "\n",
        "```python\n",
        "# 1. Configurar el tamaño del gráfico\n",
        "plt.figure(figsize=(10, 6))\n",
        "\n",
        "# 2. Crear el gráfico de distribución (histograma)\n",
        "sns.histplot(df['nota'], bins=11, kde=False, color='skyblue')\n",
        "\n",
        "# 3. Añadir etiquetas y título\n",
        "plt.title('Distribución de las Calificaciones de las Compras', fontsize=16)\n",
        "plt.xlabel('Calificación (0-10)', fontsize=12)\n",
        "plt.ylabel('Frecuencia', fontsize=12)\n",
        "\n",
        "# 4. Mostrar el gráfico\n",
        "plt.show()\n",
        "```\n",
        "\n",
        "Nuestro gráfico necesita seguir la identidad visual de Zoop, con el fondo de la figura y del gráfico en el color GRIS_1, el color de las columnas en ROJO_1 y el tamaño de la figura debe ser de (10, 6).\n",
        "\n",
        "El título de la figura es \"Distribución de las evaluaciones de las compras en 2023\" con tamaño 18 y su color GRIS_5.\n",
        "\n",
        "Las etiquetas del eje x (xticks) deben estar en el rango de 0 a 10 con 11 bins y tener tamaño 12 con el color AZUL_1. Las etiquetas del eje y (yticks) deben tener tamaño 12 con el color AZUL_1 y las etiquetas de los ejes x e y (xlabel e ylabel) también deben tener tamaño 12 con el color AZUL_1. Todos los bordes del gráfico deben ser suprimidos (['top', 'bottom', 'left', 'right']).\n",
        "\n",
        "El grid del eje y debe estar detrás del gráfico (`ax.set_axisbelow(True)`).\n",
        "\n",
        "Vamos a añadir una caja de anotación (`ax.annotate()`) con el fondo en color BLANCO y el borde en color GRIS_3 dentro del área del gráfico. El texto de la anotación es\n",
        "\n",
        "```python\n",
        "f\"Promedio de calificaciones = {df['nota'].mean().round(2)}\\n Calificación más común = {df['nota'].value_counts().idxmax()}\\n Frecuencia más común = {df['nota'].value_counts().max()}\"\n",
        "```\n",
        "\n",
        "en color AZUL_1. Añade la caja de anotación con el texto en la posición xytext=(2, 1800) y coloca una flecha, en color AZUL_1, saliendo de la caja hasta la posición xy=(8.7, 2250).\n",
        "\n",
        "Utiliza las bibliotecas de visualización de datos de Python para crear esta visualización.\n"
      ],
      "metadata": {
        "id": "9wauvnM5-8tl"
      }
    },
    {
      "cell_type": "code",
      "source": [],
      "metadata": {
        "id": "GggHmSJI8rBW"
      },
      "execution_count": null,
      "outputs": []
    },
    {
      "cell_type": "code",
      "source": [],
      "metadata": {
        "id": "CCEWR9S58q97"
      },
      "execution_count": null,
      "outputs": []
    },
    {
      "cell_type": "markdown",
      "source": [
        "<font color=\"7b71ff\" size=4> Comentarios: </font>\n",
        "\n",
        "---\n",
        "\n",
        "¡Una novedad más en nuestro gráfico! Añadimos la función de caja de anotaciones, que es muy útil para proporcionar información sobre los datos. Con ella es posible utilizar flechas como indicadores para destacar detalles.\n"
      ],
      "metadata": {
        "id": "xQZOKIRDBv00"
      }
    },
    {
      "cell_type": "markdown",
      "source": [
        "### **Gráfico 7 - Distribución del público por edad y sexo biológico:**\n"
      ],
      "metadata": {
        "id": "OvX96VEzB16Y"
      }
    },
    {
      "cell_type": "markdown",
      "source": [
        "Ahora vamos con nuestra última visualización.\n"
      ],
      "metadata": {
        "id": "A5-EoWVgCR28"
      }
    },
    {
      "cell_type": "code",
      "source": [],
      "metadata": {
        "id": "fATZ9ek88lCq"
      },
      "execution_count": null,
      "outputs": []
    },
    {
      "cell_type": "markdown",
      "source": [
        "> #### <strong><font color=\"7b71ff\" size =6>Prompt:</font></strong>\n",
        "\n",
        "Ahora vamos al gráfico de boxplot de la Distribución de la Edad por Sexo Biológico que produjimos anteriormente. Vamos a refinado usando las siguientes orientaciones.\n",
        "\n",
        "El script original que genera el gráfico es el siguiente:\n",
        "\n",
        "```python\n",
        "# 1. Configurar el tamaño del gráfico\n",
        "plt.figure(figsize=(10, 6))\n",
        "\n",
        "# 2. Crear el gráfico de boxplot\n",
        "sns.boxplot(x='sexo_biologico', y='edad', data=df, palette='Set2')\n",
        "\n",
        "# 3. Añadir etiquetas y título\n",
        "plt.title('Distribución de la Audiencia por Edad y Sexo Biológico', fontsize=16)\n",
        "plt.xlabel('Sexo Biológico', fontsize=12)\n",
        "plt.ylabel('Edad', fontsize=12)\n",
        "\n",
        "# 4. Mostrar el gráfico\n",
        "plt.show()\n",
        "```\n",
        "\n",
        "Nuestro gráfico debe seguir la identidad visual de Zoop, con el fondo de la figura y del gráfico en el color GRIS_1, y el tamaño de la figura debe ser de (10, 6).\n",
        "\n",
        "El título de la figura es \"Distribución de la Edad por Sexo Biológico de los  clientes\" con tamaño 18 y su color GRIS_5.\n",
        "\n",
        "La columna 'sexo_biologico' está representada en el eje x y la 'edad' en el eje y. La paleta de colores para los valores de x es [AZUL_1, AQUA_1].\n",
        "\n",
        "La etiqueta del eje x (xlabel) debe ser suprimida. Los rótulos del eje x y y (xticks y yticks) deben tener tamaño 12 con el color AZUL_1 y la etiqueta del eje y (ylabel) también debe tener tamaño 12 con el color AZUL_1. Todos los bordes del gráfico deben ser suprimidos y la cuadrícula del eje y debe estar detrás del gráfico (`ax.set_axisbelow(True)`).\n",
        "\n",
        "Vamos a agregar dos cajas de anotación (`ax.annotate()`) con el fondo en color BLANCO y el borde en color GRIS_3 dentro del área del gráfico.\n",
        "\n",
        "El texto de la primera anotación en color AZUL_1 es\n",
        "\n",
        "```python\n",
        "f\"Mínimo = df.groupby(\"sexo_biologico\")[\"edad\"].min()[1]\\n 1º quartil = df.groupby(\"sexo_biologico\")[\"edad\"].quantile(.25)[1]\\n 2º quartil = df.groupby(\"sexo_biologico\")[\"edad\"].median()[1]\\n 3º quartil = df.groupby(\"sexo_biologico\")[\"edad\"].quantile(.75)[1]\\n Máximo = df.groupby(\"sexo_biologico\")[\"edad\"].max()[1]\"\n",
        "```\n",
        "\n",
        "Agrega la caja de anotación con el texto en la posición xytext=(-0.4, 50) y coloca una flecha, en color AZUL_1, saliendo de la caja hasta la posición xy=(-0.1, 45).\n",
        "\n",
        "El texto de la segunda anotación en color AZUL_1 es\n",
        "\n",
        "```python\n",
        "f\"Mínimo = df.groupby(\"sexo_biologico\")[\"edad\"].min()[0]\\n 1º quartil = df.groupby(\"sexo_biologico\")[\"edad\"].quantile(.25)[0]\\n 2º quartil = df.groupby(\"sexo_biologico\")[\"edad\"].median()[0]\\n 3º quartil = df.groupby(\"sexo_biologico\")[\"edad\"].quantile(.75)[0]\\n Máximo = df.groupby(\"sexo_biologico\")[\"edad\"].max()[0]\"\n",
        "```\n",
        "\n",
        "\n",
        "Agrega la caja de anotación con el texto en la posición xytext=(0.6, 50) y coloca una flecha, en color AZUL_1, saliendo de la caja hasta la posición xy=(0.9, 45).\n",
        "\n",
        "Utiliza las bibliotecas de visualización de datos de Python para crear esta visualización.\n"
      ],
      "metadata": {
        "id": "u2WV7yloFTGp"
      }
    },
    {
      "cell_type": "code",
      "source": [],
      "metadata": {
        "id": "VwyrFJbh8iYq"
      },
      "execution_count": null,
      "outputs": []
    },
    {
      "cell_type": "code",
      "source": [],
      "metadata": {
        "id": "KokeV69t8iP-"
      },
      "execution_count": null,
      "outputs": []
    },
    {
      "cell_type": "markdown",
      "source": [
        "<font color=\"7b71ff\" size=4> Comentarios: </font>\n",
        "\n",
        "---\n",
        "\n",
        "Para nuestro último gráfico, creamos nuevamente el bloque de anotaciones señalando los valores que se muestran en un boxplot. Notamos que la distribución entre los clientes de sexo biológico masculino y femenino es bastante cercana, con solo un año de diferencia en el rango intercuartil (del 1º al 3º cuartil) en el caso del sexo biológico masculino. Zoop tiene en la mediana una clientela de 38 años de edad para ambos sexos.\n"
      ],
      "metadata": {
        "id": "hNRa4k9ABYTs"
      }
    },
    {
      "cell_type": "markdown",
      "source": [
        "## **5.4 - Exportando las visualizaciones**\n",
        "\n",
        "---\n",
        "\n"
      ],
      "metadata": {
        "id": "mTK8l5u7BlER"
      }
    },
    {
      "cell_type": "markdown",
      "source": [
        "¡Listo! Ahora que hemos finalizado los ajustes de todos los gráficos solicitados, generaremos un último código para exportar cada uno de los gráficos que transformamos en funciones en formato de imagen (PNG)."
      ],
      "metadata": {
        "id": "3tspl9LkCBcm"
      }
    },
    {
      "cell_type": "markdown",
      "source": [
        "<strong><font color=\"7b71ff\" size =6>Prompt:</font></strong>\n",
        "Ahora, vamos a nuestra última etapa: guardar las visualizaciones como imagen. Coloca cada uno de los gráficos que generamos dentro de una función y quiero que se aplique el siguiente procedimiento a cada una de ellas:\n",
        "\n",
        "```\n",
        "nombre_imagen = nombre_funcion()\n",
        "nombre_imagen.savefig('nombre_imagen.png', bbox_inches='tight')\n",
        "nombre_imagen.close()\n",
        "```\n",
        "Las funciones son:\n",
        "\n",
        "\n",
        "*   metodo_pago()\n",
        "*   ventas_mensuales()\n",
        "*   facturacion_por_categoria()\n",
        "*   ventas_por_trimestre()\n",
        "*   proporcion_cashback()\n",
        "*   distribucion_calificaciones()\n",
        "*   box_plot_edad_sexo()\n",
        "\n",
        "Reemplaza la variable \"nombre_imagen\" por \"grafico_\" seguido del nombre de la función que genera el gráfico.\n",
        "\n",
        "Utiliza el lenguaje Python para crear el código y no mostrar las imágenes."
      ],
      "metadata": {
        "id": "csUc52BgCb7C"
      }
    },
    {
      "cell_type": "code",
      "source": [],
      "metadata": {
        "id": "E8MJHMN98ewE"
      },
      "execution_count": null,
      "outputs": []
    },
    {
      "cell_type": "markdown",
      "source": [
        "¡Ahora es tu turno! ¿Qué tal descargar los gráficos y generar un informe con algunos insights y explicando los resultados?\n",
        "\n",
        "¡Espero que hayas disfrutado este curso y saques el máximo provecho del contenido!"
      ],
      "metadata": {
        "id": "kTJalNIIDsyA"
      }
    }
  ]
}